{
 "cells": [
  {
   "cell_type": "code",
   "execution_count": 3,
   "id": "af49d132",
   "metadata": {},
   "outputs": [
    {
     "name": "stdout",
     "output_type": "stream",
     "text": [
      "✅ Data cleaned and saved to: data/cleaned/sofifa/sofifa_players_cleaned.xlsx\n"
     ]
    }
   ],
   "source": [
    "import pandas as pd\n",
    "import unicodedata\n",
    "import os\n",
    "\n",
    "# Always create the directory in case it's missing\n",
    "os.makedirs('data/cleaned/sofifa', exist_ok=True)\n",
    "\n",
    "# Load the Excel file\n",
    "df = pd.read_excel('data/cleaned/sofifa/sofifa_players_cleaned.xlsx')\n",
    "\n",
    "exclude_col = 'picture'\n",
    "\n",
    "def remove_accents(text):\n",
    "    if isinstance(text, str):\n",
    "        text = unicodedata.normalize('NFKD', text)\n",
    "        return ''.join(c for c in text if not unicodedata.combining(c))\n",
    "    return text\n",
    "\n",
    "def clean_string(value):\n",
    "    if isinstance(value, str):\n",
    "        value = remove_accents(value)\n",
    "        value = value.strip().lower().replace(\" \", \"_\")\n",
    "    return value\n",
    "\n",
    "def clean_dataframe(df, exclude_columns=None):\n",
    "    if exclude_columns is None:\n",
    "        exclude_columns = []\n",
    "\n",
    "    # Clean column names\n",
    "    df.columns = [clean_string(col) for col in df.columns]\n",
    "\n",
    "    # Clean object columns except excluded\n",
    "    for col in df.select_dtypes(include=['object']).columns:\n",
    "        if col not in exclude_columns:\n",
    "            df[col] = df[col].apply(clean_string)\n",
    "    \n",
    "    return df\n",
    "\n",
    "# Remove dots in the 'name' column if it exists\n",
    "if 'name' and 'team' in df.columns:\n",
    "    df['name'] = df['name'].str.replace('.', '', regex=False)\n",
    "    df['team'] = df['team'].str.replace('.', '', regex=False)\n",
    "\n",
    "df_cleaned = clean_dataframe(df, exclude_columns=[exclude_col])\n",
    "# Save cleaned version\n",
    "output_path = 'data/cleaned/sofifa/sofifa_players_cleaned.xlsx'\n",
    "df_cleaned.to_excel(output_path, index=False)\n",
    "print(f\"✅ Data cleaned and saved to: {output_path}\")"
   ]
  },
  {
   "cell_type": "code",
   "execution_count": 5,
   "id": "d758261e",
   "metadata": {},
   "outputs": [
    {
     "ename": "KeyboardInterrupt",
     "evalue": "",
     "output_type": "error",
     "traceback": [
      "\u001b[31m---------------------------------------------------------------------------\u001b[39m",
      "\u001b[31mKeyboardInterrupt\u001b[39m                         Traceback (most recent call last)",
      "\u001b[36mCell\u001b[39m\u001b[36m \u001b[39m\u001b[32mIn[5]\u001b[39m\u001b[32m, line 23\u001b[39m\n\u001b[32m     21\u001b[39m \u001b[38;5;28;01mwhile\u001b[39;00m unique_names:\n\u001b[32m     22\u001b[39m     name = unique_names.pop(\u001b[32m0\u001b[39m)\n\u001b[32m---> \u001b[39m\u001b[32m23\u001b[39m     duplicates = [n \u001b[38;5;28;01mfor\u001b[39;00m n \u001b[38;5;129;01min\u001b[39;00m unique_names \u001b[38;5;28;01mif\u001b[39;00m \u001b[43mfuzz\u001b[49m\u001b[43m.\u001b[49m\u001b[43mratio\u001b[49m\u001b[43m(\u001b[49m\u001b[43mname\u001b[49m\u001b[43m,\u001b[49m\u001b[43m \u001b[49m\u001b[43mn\u001b[49m\u001b[43m)\u001b[49m >= \u001b[32m90\u001b[39m]\n\u001b[32m     24\u001b[39m     all_versions = [name] + duplicates\n\u001b[32m     25\u001b[39m     best = \u001b[38;5;28mmax\u001b[39m(all_versions, key=\u001b[38;5;28mlen\u001b[39m)\n",
      "\u001b[36mFile \u001b[39m\u001b[32mc:\\Users\\bahri\\Desktop\\Football_performance_analysis\\venv\\Lib\\site-packages\\fuzzywuzzy\\utils.py:38\u001b[39m, in \u001b[36mcheck_for_none.<locals>.decorator\u001b[39m\u001b[34m(*args, **kwargs)\u001b[39m\n\u001b[32m     36\u001b[39m \u001b[38;5;28;01mif\u001b[39;00m args[\u001b[32m0\u001b[39m] \u001b[38;5;129;01mis\u001b[39;00m \u001b[38;5;28;01mNone\u001b[39;00m \u001b[38;5;129;01mor\u001b[39;00m args[\u001b[32m1\u001b[39m] \u001b[38;5;129;01mis\u001b[39;00m \u001b[38;5;28;01mNone\u001b[39;00m:\n\u001b[32m     37\u001b[39m     \u001b[38;5;28;01mreturn\u001b[39;00m \u001b[32m0\u001b[39m\n\u001b[32m---> \u001b[39m\u001b[32m38\u001b[39m \u001b[38;5;28;01mreturn\u001b[39;00m \u001b[43mfunc\u001b[49m\u001b[43m(\u001b[49m\u001b[43m*\u001b[49m\u001b[43margs\u001b[49m\u001b[43m,\u001b[49m\u001b[43m \u001b[49m\u001b[43m*\u001b[49m\u001b[43m*\u001b[49m\u001b[43mkwargs\u001b[49m\u001b[43m)\u001b[49m\n",
      "\u001b[36mFile \u001b[39m\u001b[32mc:\\Users\\bahri\\Desktop\\Football_performance_analysis\\venv\\Lib\\site-packages\\fuzzywuzzy\\utils.py:29\u001b[39m, in \u001b[36mcheck_for_equivalence.<locals>.decorator\u001b[39m\u001b[34m(*args, **kwargs)\u001b[39m\n\u001b[32m     27\u001b[39m \u001b[38;5;28;01mif\u001b[39;00m args[\u001b[32m0\u001b[39m] == args[\u001b[32m1\u001b[39m]:\n\u001b[32m     28\u001b[39m     \u001b[38;5;28;01mreturn\u001b[39;00m \u001b[32m100\u001b[39m\n\u001b[32m---> \u001b[39m\u001b[32m29\u001b[39m \u001b[38;5;28;01mreturn\u001b[39;00m \u001b[43mfunc\u001b[49m\u001b[43m(\u001b[49m\u001b[43m*\u001b[49m\u001b[43margs\u001b[49m\u001b[43m,\u001b[49m\u001b[43m \u001b[49m\u001b[43m*\u001b[49m\u001b[43m*\u001b[49m\u001b[43mkwargs\u001b[49m\u001b[43m)\u001b[49m\n",
      "\u001b[36mFile \u001b[39m\u001b[32mc:\\Users\\bahri\\Desktop\\Football_performance_analysis\\venv\\Lib\\site-packages\\fuzzywuzzy\\utils.py:47\u001b[39m, in \u001b[36mcheck_empty_string.<locals>.decorator\u001b[39m\u001b[34m(*args, **kwargs)\u001b[39m\n\u001b[32m     45\u001b[39m \u001b[38;5;28;01mif\u001b[39;00m \u001b[38;5;28mlen\u001b[39m(args[\u001b[32m0\u001b[39m]) == \u001b[32m0\u001b[39m \u001b[38;5;129;01mor\u001b[39;00m \u001b[38;5;28mlen\u001b[39m(args[\u001b[32m1\u001b[39m]) == \u001b[32m0\u001b[39m:\n\u001b[32m     46\u001b[39m     \u001b[38;5;28;01mreturn\u001b[39;00m \u001b[32m0\u001b[39m\n\u001b[32m---> \u001b[39m\u001b[32m47\u001b[39m \u001b[38;5;28;01mreturn\u001b[39;00m \u001b[43mfunc\u001b[49m\u001b[43m(\u001b[49m\u001b[43m*\u001b[49m\u001b[43margs\u001b[49m\u001b[43m,\u001b[49m\u001b[43m \u001b[49m\u001b[43m*\u001b[49m\u001b[43m*\u001b[49m\u001b[43mkwargs\u001b[49m\u001b[43m)\u001b[49m\n",
      "\u001b[36mFile \u001b[39m\u001b[32mc:\\Users\\bahri\\Desktop\\Football_performance_analysis\\venv\\Lib\\site-packages\\fuzzywuzzy\\fuzz.py:28\u001b[39m, in \u001b[36mratio\u001b[39m\u001b[34m(s1, s2)\u001b[39m\n\u001b[32m     25\u001b[39m s1, s2 = utils.make_type_consistent(s1, s2)\n\u001b[32m     27\u001b[39m m = SequenceMatcher(\u001b[38;5;28;01mNone\u001b[39;00m, s1, s2)\n\u001b[32m---> \u001b[39m\u001b[32m28\u001b[39m \u001b[38;5;28;01mreturn\u001b[39;00m utils.intr(\u001b[32m100\u001b[39m * \u001b[43mm\u001b[49m\u001b[43m.\u001b[49m\u001b[43mratio\u001b[49m\u001b[43m(\u001b[49m\u001b[43m)\u001b[49m)\n",
      "\u001b[36mFile \u001b[39m\u001b[32m~\\AppData\\Local\\Programs\\Python\\Python312\\Lib\\difflib.py:619\u001b[39m, in \u001b[36mSequenceMatcher.ratio\u001b[39m\u001b[34m(self)\u001b[39m\n\u001b[32m    597\u001b[39m \u001b[38;5;28;01mdef\u001b[39;00m\u001b[38;5;250m \u001b[39m\u001b[34mratio\u001b[39m(\u001b[38;5;28mself\u001b[39m):\n\u001b[32m    598\u001b[39m \u001b[38;5;250m    \u001b[39m\u001b[33;03m\"\"\"Return a measure of the sequences' similarity (float in [0,1]).\u001b[39;00m\n\u001b[32m    599\u001b[39m \n\u001b[32m    600\u001b[39m \u001b[33;03m    Where T is the total number of elements in both sequences, and\u001b[39;00m\n\u001b[32m   (...)\u001b[39m\u001b[32m    616\u001b[39m \u001b[33;03m    1.0\u001b[39;00m\n\u001b[32m    617\u001b[39m \u001b[33;03m    \"\"\"\u001b[39;00m\n\u001b[32m--> \u001b[39m\u001b[32m619\u001b[39m     matches = \u001b[38;5;28msum\u001b[39m(triple[-\u001b[32m1\u001b[39m] \u001b[38;5;28;01mfor\u001b[39;00m triple \u001b[38;5;129;01min\u001b[39;00m \u001b[38;5;28;43mself\u001b[39;49m\u001b[43m.\u001b[49m\u001b[43mget_matching_blocks\u001b[49m\u001b[43m(\u001b[49m\u001b[43m)\u001b[49m)\n\u001b[32m    620\u001b[39m     \u001b[38;5;28;01mreturn\u001b[39;00m _calculate_ratio(matches, \u001b[38;5;28mlen\u001b[39m(\u001b[38;5;28mself\u001b[39m.a) + \u001b[38;5;28mlen\u001b[39m(\u001b[38;5;28mself\u001b[39m.b))\n",
      "\u001b[36mFile \u001b[39m\u001b[32m~\\AppData\\Local\\Programs\\Python\\Python312\\Lib\\difflib.py:454\u001b[39m, in \u001b[36mSequenceMatcher.get_matching_blocks\u001b[39m\u001b[34m(self)\u001b[39m\n\u001b[32m    452\u001b[39m \u001b[38;5;28;01mwhile\u001b[39;00m queue:\n\u001b[32m    453\u001b[39m     alo, ahi, blo, bhi = queue.pop()\n\u001b[32m--> \u001b[39m\u001b[32m454\u001b[39m     i, j, k = x = \u001b[38;5;28;43mself\u001b[39;49m\u001b[43m.\u001b[49m\u001b[43mfind_longest_match\u001b[49m\u001b[43m(\u001b[49m\u001b[43malo\u001b[49m\u001b[43m,\u001b[49m\u001b[43m \u001b[49m\u001b[43mahi\u001b[49m\u001b[43m,\u001b[49m\u001b[43m \u001b[49m\u001b[43mblo\u001b[49m\u001b[43m,\u001b[49m\u001b[43m \u001b[49m\u001b[43mbhi\u001b[49m\u001b[43m)\u001b[49m\n\u001b[32m    455\u001b[39m     \u001b[38;5;66;03m# a[alo:i] vs b[blo:j] unknown\u001b[39;00m\n\u001b[32m    456\u001b[39m     \u001b[38;5;66;03m# a[i:i+k] same as b[j:j+k]\u001b[39;00m\n\u001b[32m    457\u001b[39m     \u001b[38;5;66;03m# a[i+k:ahi] vs b[j+k:bhi] unknown\u001b[39;00m\n\u001b[32m    458\u001b[39m     \u001b[38;5;28;01mif\u001b[39;00m k:   \u001b[38;5;66;03m# if k is 0, there was no matching block\u001b[39;00m\n",
      "\u001b[36mFile \u001b[39m\u001b[32m~\\AppData\\Local\\Programs\\Python\\Python312\\Lib\\difflib.py:419\u001b[39m, in \u001b[36mSequenceMatcher.find_longest_match\u001b[39m\u001b[34m(self, alo, ahi, blo, bhi)\u001b[39m\n\u001b[32m    414\u001b[39m \u001b[38;5;28;01mwhile\u001b[39;00m besti+bestsize < ahi \u001b[38;5;129;01mand\u001b[39;00m bestj+bestsize < bhi \u001b[38;5;129;01mand\u001b[39;00m \\\n\u001b[32m    415\u001b[39m       isbjunk(b[bestj+bestsize]) \u001b[38;5;129;01mand\u001b[39;00m \\\n\u001b[32m    416\u001b[39m       a[besti+bestsize] == b[bestj+bestsize]:\n\u001b[32m    417\u001b[39m     bestsize = bestsize + \u001b[32m1\u001b[39m\n\u001b[32m--> \u001b[39m\u001b[32m419\u001b[39m \u001b[38;5;28;01mreturn\u001b[39;00m \u001b[43mMatch\u001b[49m\u001b[43m(\u001b[49m\u001b[43mbesti\u001b[49m\u001b[43m,\u001b[49m\u001b[43m \u001b[49m\u001b[43mbestj\u001b[49m\u001b[43m,\u001b[49m\u001b[43m \u001b[49m\u001b[43mbestsize\u001b[49m\u001b[43m)\u001b[49m\n",
      "\u001b[36mFile \u001b[39m\u001b[32m<string>:1\u001b[39m, in \u001b[36m<lambda>\u001b[39m\u001b[34m(_cls, a, b, size)\u001b[39m\n",
      "\u001b[31mKeyboardInterrupt\u001b[39m: "
     ]
    }
   ],
   "source": [
    "import pandas as pd\n",
    "from fuzzywuzzy import fuzz\n",
    "\n",
    "# Load the two Excel files\n",
    "df1 = pd.read_excel(\"data/cleaned/sofascore/sofascore_preprocessed_teams_players.xlsx\")  # contains column 'name'\n",
    "df2 = pd.read_excel(\"data/cleaned/sofifa/sofifa_players_cleaned.xlsx\")  # contains column 'name'\n",
    "\n",
    "# Combine and normalize names\n",
    "list1 = df1['name'].str.strip().str.lower().tolist()\n",
    "list2 = df2['name'].str.strip().str.lower().tolist()\n",
    "combined = list1 + list2\n",
    "\n",
    "# Remove exact duplicates\n",
    "unique_names = []\n",
    "for name in combined:\n",
    "    if name not in unique_names:\n",
    "        unique_names.append(name)\n",
    "\n",
    "# Fuzzy match and keep best version\n",
    "final_names = []\n",
    "while unique_names:\n",
    "    name = unique_names.pop(0)\n",
    "    duplicates = [n for n in unique_names if fuzz.ratio(name, n) >= 90]\n",
    "    all_versions = [name] + duplicates\n",
    "    best = max(all_versions, key=len)\n",
    "    final_names.append(best)\n",
    "    unique_names = [n for n in unique_names if n not in duplicates]\n",
    "\n",
    "# Save to Excel\n",
    "final_df = pd.DataFrame(final_names, columns=['unique_player_name'])\n",
    "final_df.to_excel(\"merged_unique_names.xlsx\", index=False)\n",
    "\n",
    "print(\"✅ Merged and saved as merged_unique_names.xlsx\")\n"
   ]
  }
 ],
 "metadata": {
  "kernelspec": {
   "display_name": "venv",
   "language": "python",
   "name": "python3"
  },
  "language_info": {
   "codemirror_mode": {
    "name": "ipython",
    "version": 3
   },
   "file_extension": ".py",
   "mimetype": "text/x-python",
   "name": "python",
   "nbconvert_exporter": "python",
   "pygments_lexer": "ipython3",
   "version": "3.12.0"
  }
 },
 "nbformat": 4,
 "nbformat_minor": 5
}
